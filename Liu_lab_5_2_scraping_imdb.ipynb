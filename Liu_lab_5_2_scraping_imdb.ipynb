{
 "cells": [
  {
   "cell_type": "markdown",
   "metadata": {},
   "source": [
    "# Lab 5.2 -- Scraping IMBD\n",
    "\n",
    "Our goal is to scrap [IMDB](imdb.com) user reviews for *Borat Subsequent Moviefilm*.  Unfortunately, the page for user reviews only shows a limited number of reviews and you can't access additional pages through a link.  `selenium` to the rescue! In this lab, we will combine our two approaches to web scraping by\n",
    "\n",
    "1. Using `selenium` to load the page and click the *Load More* until we have all the reviews.\n",
    "2. Creating a `BeautifulSoup` instance for the complete page and parsing the results."
   ]
  },
  {
   "cell_type": "markdown",
   "metadata": {},
   "source": [
    "### Task 1 -- Load the reviews.\n",
    "\n",
    "Explore IMBD to find the web link for the user reviews for *Borat Subsequent Moviefilm* and load this page in Python with `selenium`."
   ]
  },
  {
   "cell_type": "code",
   "execution_count": 17,
   "metadata": {},
   "outputs": [],
   "source": [
    "# Liangrong Liu Task_1\n",
    "# Import related modules\n",
    "from selenium import webdriver\n",
    "\n",
    "# Drive the link for IMDB reviews\n",
    "DRIVER_PATH = '/Users/liangrong/Documents/pyton_practice/chromedriver'\n",
    "url = 'https://www.imdb.com/title/tt13143964/reviews?ref_=tt_urv'\n",
    "driver = webdriver.Chrome(executable_path = DRIVER_PATH)\n",
    "driver.get(url)"
   ]
  },
  {
   "cell_type": "code",
   "execution_count": 18,
   "metadata": {},
   "outputs": [
    {
     "output_type": "execute_result",
     "data": {
      "text/plain": [
       "if(a.id)return\"//*[@id=\\'\"+a.id+\"\\']\";var c;c=1;var b;for(b=a.previousSibling;b;b=b.previousSibling)b.nodeName==a.nodeName&&(c+=1);b=a.nodeName;1!=c&&(b+=\"[\"+c+\"]\");a.parentNode&&(b=n(a.parentNode)+\"/\"+b);return b}function w(){var a=h.images;a&&a.length&&e(a,function(a){var b=a.getAttribute(\"src\");f(b,\"img\",a);g(b,\"img\",a)})}function x(){var a=h.scripts;a&&a.length&&e(a,function(a){var b=a.getAttribute(\"src\");f(b,\"script\",a);g(b,\"script\",a)})}\\nfunction y(){var a=h.styleSheets;a&&a.length&&e(a,function(a){if(a=a.ownerNode){var b=a.getAttribute(\"href\");f(b,\"style\",a);g(b,\"style\",a)}})}function z(){if(A){var a=q();e(a,function(a){f(a.name,a.initiatorType)})}}function B(){e(q(),function(a){g(a.name,a.initiatorType)})}function r(){var a;a=d.location&&d.location.protocol?d.location.protocol:void 0;\"https:\"==a&&(z(),w(),x(),y(),B(),p<C&&setTimeout(r,D))}var s=\"[CSM] Insecure content detected \",t=\"[CSM] Ajax request to same page detected \",v=\"WARN\",\\nm={},p=0,D=k.ue_nsip||1E3,C=5,A=1==k.ue_urt,u=!0;ue_csm.ue_disableNonSecure||(d.performance&&d.performance.setResourceTimingBufferSize&&d.performance.setResourceTimingBufferSize(300),r())})(ue_csm,window,document);\\n\\n\\nvar ue_aa_a = \"\";\\nif (ue.trigger && (ue_aa_a === \"C\" || ue_aa_a === \"T1\")) {\\n    ue.trigger(\"UEDATA_AA_SERVERSIDE_ASSIGNMENT_CLIENTSIDE_TRIGGER_190249\", ue_aa_a);\\n}\\n(function(f,b){function g(){try{b.PerformanceObserver&&\"function\"===typeof b.PerformanceObserver&&(a=new b.PerformanceObserver(function(b){c(b.getEntries())}),a.observe(d))}catch(h){k()}}function m(){for(var h=d.entryTypes,a=0;a<h.length;a++)c(b.performance.getEntriesByType(h[a]))}function c(a){if(a&&Array.isArray(a)){for(var c=0,e=0;e<a.length;e++){var d=l.indexOf(a[e].name);if(-1!==d){var g=Math.round(b.performance.timing.navigationStart+a[e].startTime);f.uet(n[d],void 0,void 0,g);c++}}l.length===\\nc&&k()}}function k(){a&&a.disconnect&&\"function\"===typeof a.disconnect&&a.disconnect()}if(\"function\"===typeof f.uet&&b.performance&&\"object\"===typeof b.performance&&b.performance.getEntriesByType&&\"function\"===typeof b.performance.getEntriesByType&&b.performance.timing&&\"object\"===typeof b.performance.timing&&\"number\"===typeof b.performance.timing.navigationStart){var d={entryTypes:[\"paint\"]},l=[\"first-paint\",\"first-contentful-paint\"],n=[\"fp\",\"fcp\"],a;try{m(),g()}catch(p){f.ueLogError(p,{logLevel:\"ERROR\",\\nattribution:\"performanceMetrics\"})}}})(ue_csm,window);\\n\\n\\nif (window.csa) {\\n    csa(\"Events\")(\"setEntity\", {\\n        page:{pageType: \"title\", subPageType: \"reviews\", pageTypeId: \"\"}\\n    });\\n}\\ncsa.plugin(function(e){var i=\"transitionStart\",n=\"pageVisible\",t=\"PageTiming\",a=\"visibilitychange\",o=e(\"Events\",{producerId:\"csa\"}),r=(e.global.performance||{}).timing,d=[\"navigationStart\",\"unloadEventStart\",\"unloadEventEnd\",\"redirectStart\",\"redirectEnd\",\"fetchStart\",\"domainLookupStart\",\"domainLookupEnd\",\"connectStart\",\"connectEnd\",\"secureConnectionStart\",\"requestStart\",\"responseStart\",\"responseEnd\",\"domLoading\",\"domInteractive\",\"domContentLoadedEventStart\",\"domContentLoadedEventEnd\",\"domComplete\",\"loadEventStart\",\"loadEventEnd\"],c=e.config,s=e.global.document||{},l=(r||{}).navigationStart,u=l,m={},v=0,g=0,f=c[t+\".BatchInterval\"]||3e3,p=0,S=!0;if(!c[\"KillSwitch.\"+t]){if(!r||null===l||l<=0||void 0===l)return e.error(\"Invalid navigation timing data: \"+l);(\"boolean\"==typeof s.hidden||\"string\"==typeof s.visibilityState)&&s.addEventListener&&s.removeEventListener&&((S=L())?(E(n,l),b()):s.addEventListener(a,function t(){(S=L())&&(u=e.time(),s.removeEventListener(a,t),E(n,u),E(i,u),b())})),e.once(\"$unload\",h),e.once(\"$load\",h),e.on(\"$beforePageTransition\",y),e.on(\"$pageTransition\",function(){u=e.time()}),e.register(t,{mark:E})}function E(t,n){null!=t&&(n=n||e.time(),t===i&&(u=n),m[t]=n,b(),e.emit(\"$timing:\"+t,n))}function h(){!function(){if(p)return;for(var t=0;t<d.length;t++)r[d[t]]&&E(d[t],r[d[t]]);p=1}(),v=1,b(!0)}function b(t){v&&S&&!g&&(g=setTimeout(y,t?0:f))}function y(){0<Object.keys(m).length&&(o(\"log\",{markers:function(t,n){var e={};for(var i in t)t.hasOwnProperty(i)&&(e[i]=Math.max(0,t[i]-n));return e}(m,u),markerTimestamps:function(t){for(var n in t)t.hasOwnProperty(n)&&(t[n]=Math.floor(t[n]));return t}(m),navigationStartTimestamp:u?new Date(u).toISOString():null,schemaId:\"<ns>.PageLatency.5\"},{ent:{page:[\"pageType\",\"subPageType\",\"requestId\"]}}),m={}),g=0}function L(){return!s.hidden||\"visible\"===s.visibilityState}});csa.plugin(function(e){var m=!!e.config[\"LCP.elementDedup\"],t=!1,n=e(\"PageTiming\"),r=e.global.PerformanceObserver,a=e.global.performance;if(r&&a&&a.timing){var i=e.exec(function(){t||function(o){var l=new r(function(e){var t=e.getEntries();if(0!==t.length){var n=t[t.length-1];if(m&&\"\"!==n.id&&n.element&&\"IMG\"===n.element.tagName){for(var r={},a=t[0],i=0;i<t.length;i++)t[i].id in r||(\"\"!==t[i].id&&(r[t[i].id]=!0),a.startTime<t[i].startTime&&(a=t[i]));n=a}l.disconnect(),o({startTime:n.startTime,renderTime:n.renderTime,loadTime:n.loadTime})}});try{l.observe({type:\"largest-contentful-paint\",buffered:!0})}catch(e){}}(function(e){e&&(t=!0,n(\"mark\",\"largestContentfulPaint\",Math.floor(e.startTime+o())),e.renderTime&&n(\"mark\",\"largestContentfulPaint.render\",Math.floor(e.renderTime+o())),e.loadTime&&n(\"mark\",\"largestContentfulPaint.load\",Math.floor(e.loadTime+o())))})});e.once(\"$unload\",i),e.once(\"$load\",i),e.register(\"LargestContentfulPaint\",{})}function o(){return a.timing.navigationStart}});csa.plugin(function(r){var e=r(\"Metrics\",{producerId:\"csa\"}),n=r.global.PerformanceObserver;n&&(n=new n(function(r){var t=r.getEntries();if(0===t.length||!t[0].processingStart||!t[0].startTime)return;!function(r){r=r||0,n.disconnect(),0<=r?e(\"recordMetric\",\"firstInputDelay\",r):e(\"recordMetric\",\"firstInputDelay.invalid\",1)}(t[0].processingStart-t[0].startTime)}),function(){try{n.observe({type:\"first-input\",buffered:!0})}catch(r){}}())});csa.plugin(function(d){var e=\"Metrics\",r=d.config,u=r[e+\".BatchInterval\"]||3e3;function n(e){var r=e.producerId,n=e.logger,t=n||d(\"Events\",{producerId:r}),i={},o=(e||{}).dimensions||{},c=0;if(!r&&!n)return d.error(\"Either a producer id or custom logger must be defined\");function s(){Object.keys(i).length&&(t(\"log\",{schemaId:e.schemaId||\"<ns>.Metric.3\",metrics:i,dimensions:o},e.logOptions||{ent:{page:[\"pageType\",\"subPageType\",\"requestId\"]}}),i={}),c=0}this.recordMetric=function(e,r){i[e]=r,c=c||setTimeout(s,u)},d.on(\"$beforeunload\",s),d.on(\"$beforePageTransition\",s)}r[\"KillSwitch.\"+e]||(new n({producerId:\"csa\"}).recordMetric(\"baselineMetricEvent\",1),d.register(e,{instance:function(e){return new n(e||{})}}))});csa.plugin(function(c){var e=\"Timers\",r=(c.global.performance||{}).timing,s=(r||{}).navigationStart||c.time(),u=c.config[e+\".BatchInterval\"]||3e3;function n(e){var r=(e=e||{}).producerId,n=e.logger,o={},t=0,i=n||c(\"Events\",{producerId:r});if(!r&&!n)return c.error(\"Either a producer id or custom logger must be defined\");function a(){0<Object.keys(o).length&&(i(\"log\",{markers:o,schemaId:e.schemaId||\"<ns>.Timer.1\"},e.logOptions),o={}),clearTimeout(t),t=0}this.mark=function(e,r){o[e]=(void 0===r?c.time():r)-s,t=t||setTimeout(a,u)},c.once(\"$beforeunload\",a),c.once(\"$beforePageTransition\",a)}r&&c.register(e,{instance:function(e){return new n(e||{})}})});csa.plugin(function(t){var e=\"takeRecords\",i=\"disconnect\",n=\"function\",o=\"addEventListener\",c=\"removeEventListener\",a=\"click\",r=t(\"Metrics\",{producerId:\"csa\"}),u=t(\"PageTiming\"),f=t.global,m=f.PerformanceObserver,s=0,l=!1,d=0,v=f.performance,h=f.document,y=null,g=!1;if(m&&v&&v.timing&&h){m=new m(function(t){y&&clearTimeout(y);t.getEntries().forEach(function(t){t.hadRecentInput||(s+=t.value,d<t.startTime&&(d=t.startTime))}),y=setTimeout(T,5e3)}),function(){try{m.observe({type:\"layout-shift\",buffered:!0}),y=setTimeout(T,5e3)}catch(t){}}();var p=t.exec(T);h[o](a,function t(e){g||(g=!0,r(\"recordMetric\",\"documentCumulativeLayoutShiftToFirstInput\",s),h[c](a,t))}),h[o](\"visibilitychange\",function(){\"hidden\"===h.visibilityState&&p()}),t.once(\"$unload\",p)}function T(){l||(l=!0,clearTimeout(y),typeof m[e]===n&&m[e](),typeof m[i]===n&&m[i](),r(\"recordMetric\",\"documentCumulativeLayoutShift\",s),u(\"mark\",\"cumulativeLayoutShiftLastTimestamp\",Math.floor(d+v.timing.navigationStart)))}});csa.plugin(function(e){var n=e.global,r=n.PerformanceObserver,t=e(\"Metrics\",{producerId:\"csa\"}),o=0,c=0,i=-1,a=n.Math,l=a.max,f=a.ceil;function u(){t(\"recordMetric\",\"totalBlockingTime\",f(c||0)),t(\"recordMetric\",\"totalBlockingTimeInclLCP\",f(o||0)),t(\"recordMetric\",\"maxBlockingTime\",f(i||0)),c=o=0,i=-1}r&&(new r(e.exec(function(e){e.getEntries().forEach(function(e){var n=e.duration;o+=n,c+=n,i=l(n,i)})})).observe({type:\"longtask\",buffered:!0}),new r(e.exec(function(e){0<e.getEntries().length&&(c=0,i=-1)})).observe({type:\"largest-contentful-paint\",buffered:!0}),e.on(\"$unload\",u),e.on(\"$beforePageTransition\",u))});csa.plugin(function(i){var e=\"CacheDetection\",n=\"csa-cache\",s=\"onsuccess\",u=\"target\",d=\"result\",p=\"exp\",f=i.exec,t=i.config,g=t[e+\".RequestID\"],l=t[e+\".Callback\"],v=1,c=i.global,r=c.document||{},a=c.indexedDB,h=c.IDBKeyRange,I=i(\"Events\"),x=i(\"Events\",{producerId:\"csa\"});if(a&&h)try{var o=a.open(n);o.onupgradeneeded=f(function(e){e[u][d].createObjectStore(n).createIndex(p,p)}),o[s]=f(function(e){var o=e[u][d].transaction(n,\"readwrite\").objectStore(n);o.get(g)[s]=f(function(e){var n=D(\"session-id\"),t=function(e){var n=D(\"cdn-rid\");if(n)return{r:n,s:\"cdn\"};if(e)return{r:i.UUID().toUpperCase().replace(/-/g,\"\").slice(0,20),s:\"device\"}}(e[u][d])||{},c=t.r,r=t.s,a=!!c;!function(e){var n=Date.now(),t=h.upperBound(n);e.index(p).openCursor(t)[s]=f(function(e){var n=e[u][d];n&&(n.delete(),n.continue())}),e.put({exp:n+60*v*60*1e3},g)}(o),function(e,n,t){if(n){I(\"setEntity\",{page:{pageSource:\"cache\",requestId:e,cacheRequestId:g},session:{id:t}}),x(\"log\",{schemaId:\"<ns>.CacheImpression.1\"},{ent:\"all\"})}}(c,a,n),a&&l&&l(c,n,r)})})}catch(e){}function D(e){try{var n=r.cookie.match(RegExp(\"(^| )\"+e+\"=([^;]+)\"));return n&&n[2].trim()}catch(e){}}});csa.plugin(function(c){var i,t=\"Content\",e=\"MutationObserver\",n=\"requestAnimationFrame\",r=\"addedNodes\",u=\"querySelectorAll\",a=\"matches\",o=\"getAttributeNames\",s=\"getAttribute\",f=\"dataset\",l=\"widget\",d=\"producerId\",m={ent:{element:1,page:[\"pageType\",\"subPageType\",\"requestId\"]}},h=5,g=10,p=\"csaC\",v=p+\"Id\",y={},E=c.config,b=E[t+\".Selectors\"]||[],I=E[t+\".WhitelistedAttributes\"]||{href:1,class:1},w=E[t+\".EnableContentEntities\"],A=c.global,C=A.document||{},k=C.documentElement,L=A.HTMLElement,N={},O=[],U=function(t,e,n,i){var r=this,o=c(\"Events\",{producerId:t||\"csa\"});e.type=e.type||l,r.id=e.id,r.l=o,r.e=e,r.el=n,r.rt=i,r.dlo=m,r.log=function(t,e){o(\"log\",t,e||m)},e.id&&o(\"setEntity\",{element:e})},q=U.prototype;function T(t){var e=(t=t||{}).element,n=t.target;return e?function(t,e){var n;n=t instanceof L?F(t)||$(e[d],t,H,c.time()):N[t.id]||_(e[d],0,t,c.time());return n}(e,t):n?function(t){var e,n=function(t){var e=null,n=0;for(;t&&n<g;){if(n++,j(t,v)){e=t;break}t=t.parentElement}return e}(t);e=n?F(n):new U(\"csa\",{id:null},null,c.time());return e}(n):c.error(\"No element or target argument provided.\")}function j(t,e){if(t&&t.dataset)return t.dataset[e]}function x(t,e,n){O.push({n:n,e:t,t:e}),M()}function D(){for(var t=c.time(),e=0;0<O.length;){var n=O.shift();if(y[n.n](n.e,n.t),++e%10==0&&c.time()-t>h)break}i=0,O.length&&M()}function M(){i=i||A[n](D)}function S(t,e,n){return{n:t,e:e,t:n}}function $(t,e,n,i){var r=c.UUID(),o={id:r};return e[f][v]=r,n(o,e),_(t,e,o,i)}function _(t,e,n,i){w&&(n.schemaId=\"<ns>.ContentEntity.2\"),n.id=n.id||c.UUID();var r=new U(t,n,e,i);return w&&r.log({schemaId:\"<ns>.ContentRender.1\",timestamp:i}),c.emit(\"$content.register\",r),N[n.id]=r}function F(t){return N[(t[f]||{})[v]]}function H(t,e){o in e&&(function(n,i){Object.keys(n[f]).forEach(function(t){if(!t.indexOf(p)&&p.length<t.length){var e=function(t){return(t[0]||\"\").toLowerCase()+t.slice(1)}(t.slice(p.length));i[e]=n[f][t]}})}(e,t),function(e,n){(e[o]()||[]).forEach(function(t){t in I&&(n[t]=e[s](t))})}(e,t))}k&&A[n]&&C[u]&&A[e]&&(b.push({selector:\"*[data-csa-c-type]\",entity:H}),b.push({selector:\".celwidget\",entity:function(t,e){H(t,e),t.slotId=t.slotId||e[s](\"cel_widget_id\")||e.id,t.type=t.type||l}}),y[1]=function(t,e){t.forEach(function(t){t[r]&&t[r].constructor&&\"NodeList\"===t[r].constructor.name&&Array.prototype.forEach.call(t[r],function(t){O.unshift(S(2,t,e))})})},y[2]=function(o,c){u in o&&a in o&&b.forEach(function(t){var e=t.selector,n=o[a](e),i=o[u](e);n&&O.unshift(S(3,{e:o,s:t},c));for(var r=0;r<i.length;r++)O.unshift(S(3,{e:i[r],s:t},c))})},y[3]=function(t,e){var n=t.e;F(n)||$(\"csa\",n,t.s.entity,e)},y[4]=function(){c.register(t,{instance:T})},new A[e](function(t){x(t,c.time(),1)}).observe(k,{childList:!0,subtree:!0}),x(k,c.time(),2),x(null,c.time(),4),c.on(\"$content.export\",function(e){Object.keys(e).forEach(function(t){q[t]=e[t]})}))});csa.plugin(function(n){var i,t=\"ContentImpressions\",e=\"KillSwitch.\",o=\"IntersectionObserver\",r=\"getAttribute\",s=\"dataset\",c=\"intersectionRatio\",a=\"csaCId\",m=1e3,l=n.global,f=n.config,g=f[e+t],u=f[e+t+\".ContentViews\"],v=((l.performance||{}).timing||{}).navigationStart||n.time(),d={};function h(t){t&&(t.v=1,function(t){t.vt=n.time(),t.el.log({schemaId:\"<ns>.ContentView.2\",timeToViewed:t.vt-t.el.rt,pageFirstPaintToElementViewed:t.vt-v})}(t))}function I(t){t&&!t.it&&(t.i=n.time()-t.is>m,function(t){t.it=n.time(),t.el.log({schemaId:\"<ns>.ContentImpressed.2\",timeToImpressed:t.it-t.el.rt,pageFirstPaintToElementImpressed:t.it-v})}(t))}!g&&l[o]&&(i=new l[o](function(t){t.forEach(function(t){var e=function(t){if(t&&t[r])return d[t[s][a]]}(t.target);if(e){var i=t.intersectionRect;t.isIntersecting&&0<i.width&&0<i.height&&(u||e.v||h(e),.5<=t[c]&&!e.is&&(e.is=n.time(),e.timer=l.setTimeout(I.bind(this,e),m))),t[c]<.5&&!e.it&&e.timer&&(l.clearTimeout(e.timer),e.is=0,e.timer=0)}})},{threshold:[0,.5]}),n.on(\"$content.register\",function(t){var e=t.el;e&&(d[t.id]={el:t,v:0,i:0,is:0,vt:0,it:0},i.observe(e))}))});csa.plugin(function(e){e.config[\"KillSwitch.ContentLatency\"]||e.emit(\"$content.export\",{mark:function(t,n){var o=this;o.t||(o.t=e(\"Timers\",{logger:o.l,schemaId:\"<ns>.ContentLatency.1\",logOptions:o.dlo})),o.t(\"mark\",t,n)}})});\\n\\n\\n}\\n/* ◬ */\\n</script>\\n\\n</div>\\n\\n<noscript>\\n    <img height=\"1\" width=\"1\" style=\\'display:none;visibility:hidden;\\' src=\\'//fls-na.amazon.com/1/batch/1/OP/A1EVAM02EL8SFB:147-1764755-4678619:KEA2BPNS70QNHY61S5C2$uedata=s:%2Frd%2Fuedata%3Fnoscript%26id%3DKEA2BPNS70QNHY61S5C2:0\\' alt=\"\"/>\\n</noscript>\\n\\n    \\n\\n\\n</div><div id=\"video-container\"><div class=\"modal__closed\"><div class=\"modal__video-container\"><div class=\"video-player__video-panel\"><div class=\"video-player__video-wrapper\"><div class=\"video-player__video-margin-maker\"><div class=\"video-player__video-container\"><div><div class=\"arrow-left disabled\"></div><div class=\"arrow-right disabled\"></div><div class=\"video-player__header\"><div class=\"video-player__header-internal\"><div class=\"close-button\"></div><div class=\"header-text-container\"><div class=\"header-text\"></div></div><div class=\"video-player__info-button\"></div><div id=\"social-sharing-widget\"><div class=\"dropdown share-widget\"><button title=\"Share this video\"><span><svg class=\"share-button\" xmlns=\"http://www.w3.org/2000/svg\" fill=\"#fff\" viewBox=\"0 0 24 24\"><path d=\"M18 16.08c-.76 0-1.44.3-1.96.77L8.91 12.7c.05-.23.09-.46.09-.7s-.04-.47-.09-.7l7.05-4.11c.54.5 1.25.81 2.04.81 1.66 0 3-1.34 3-3s-1.34-3-3-3-3 1.34-3 3c0 .24.04.47.09.7L8.04 9.81C7.5 9.31 6.79 9 6 9c-1.66 0-3 1.34-3 3s1.34 3 3 3c.79 0 1.5-.31 2.04-.81l7.12 4.16c-.05.21-.08.43-.08.65 0 1.61 1.31 2.92 2.92 2.92 1.61 0 2.92-1.31 2.92-2.92s-1.31-2.92-2.92-2.92z\"></path></svg><span class=\"share-button-title\" style=\"color: rgb(255, 255, 255);\">SHARE</span></span></button><div class=\"dropdown-menu menu-right\"><div class=\"dropdown-menu-item\"><a href=\"http://www.facebook.com/sharer.php?u=https%3A%2F%2Fwww.imdb.com%2Ftitle%2Ftt13143964%2Freviews\" title=\"Share on Facebook\" windowwidth=\"626\" windowheight=\"436\" target=\"_blank\"><span class=\"share-widget-sprite share facebook\"></span>Facebook</a></div><div class=\"dropdown-menu-item\"><a tweet=\"Check out this video -  from undefined - on IMDb!\" href=\"http://twitter.com/intent/tweet?text=Check%20out%20this%20video%20-%20%20from%20undefined%20-%20on%20IMDb!%20-%20https%3A%2F%2Fwww.imdb.com%2Ftitle%2Ftt13143964%2Freviews\" title=\"Share on Twitter\" windowwidth=\"815\" windowheight=\"436\" target=\"_blank\"><span class=\"share-widget-sprite share twitter\"></span>Twitter</a></div><div class=\"dropdown-menu-item\"><a href=\"mailto:?subject=Watch%20this%20video%20on%20IMDb!&amp;body=Check%20out%20this%20video%20-%20%20from%20undefined%20-%20on%20IMDb! - https://www.imdb.com/title/tt13143964/reviews\" title=\"Share by email\"><span class=\"share-widget-sprite share email\"></span>Email</a></div><div class=\"dropdown-menu-item\"><a href=\"https://www.imdb.com/title/tt13143964/reviews\" title=\"Click to copy\"><span class=\"share-widget-copy-icon\"><span class=\"share-widget-sprite share link\"></span></span><div class=\"share-link-descriptor\">Copy</div><div class=\"share-link-textbox\"><input type=\"text\" readonly=\"\" value=\"https://www.imdb.com/title/tt13143964/reviews\"></div></a></div><div class=\"dropdown-menu-item\"><a href=\"#\" title=\"Click to copy\"><span class=\"share-widget-copy-icon\"><span class=\"share-widget-sprite share embed\"></span></span><div class=\"share-link-descriptor\">Embed</div><div class=\"share-link-textbox\"><input type=\"text\" readonly=\"\" value=\"<iframe src=&quot;https://www.imdb.com/videoembed/undefined&quot; allowfullscreen width=&quot;854&quot; height=&quot;400&quot;></iframe>\"></div></a></div></div><div class=\"dropdown-overlay\"></div></div></div></div></div></div><div class=\"video-player__video\"><div id=\"imdb-jw-video-1\"></div></div></div></div></div><div class=\"video-player__sidebar\"><div class=\"video-player__sidebar-wrapper\"><div class=\"sidebar-close-button\"></div><div class=\"sidebar-header\"><div class=\"video-player__playlist-header\"><div class=\"video-player__playlist-header-title\">Related Videos</div><div class=\"video-player__playlist-header-index\"></div></div></div><div class=\"sidebar-related\"><div class=\"scrollable-area\"><div class=\"primary-relation-card\"><div class=\"primary-relation-poster\"><a target=\"_self\" class=\"poster-link\"></a></div><div class=\"primary-relation-info\"><a target=\"_self\" class=\"primary-relation-name\"></a></div></div><div class=\"sidebar-video-description\"><div class=\"content-card collapsed\"><div class=\"expand-collapse-card-button\"></div><div class=\"primary-text-container\"><div class=\"centered-primary-text\"><h1 class=\"title\"></h1></div></div><div class=\"description\"></div></div></div></div></div></div></div></div></div></div></div><script src=\"https://db187550c7dkf.cloudfront.net/jwplayer-unlimited-8.5.6/jwplayer.js\" async=\"\"></script><div id=\"cboxOverlay\" style=\"display: none;\"></div><div id=\"colorbox\" class=\"\" role=\"dialog\" tabindex=\"-1\" style=\"display: none;\"><div id=\"cboxWrapper\"><div><div id=\"cboxTopLeft\" style=\"float: left;\"></div><div id=\"cboxTopCenter\" style=\"float: left;\"></div><div id=\"cboxTopRight\" style=\"float: left;\"></div></div><div style=\"clear: left;\"><div id=\"cboxMiddleLeft\" style=\"float: left;\"></div><div id=\"cboxContent\" style=\"float: left;\"><div id=\"cboxTitle\" style=\"float: left;\"></div><div id=\"cboxCurrent\" style=\"float: left;\"></div><button type=\"button\" id=\"cboxPrevious\"></button><button type=\"button\" id=\"cboxNext\"></button><button type=\"button\" id=\"cboxSlideshow\"></button><div id=\"cboxLoadingOverlay\" style=\"float: left;\"></div><div id=\"cboxLoadingGraphic\" style=\"float: left;\"></div></div><div id=\"cboxMiddleRight\" style=\"float: left;\"></div></div><div style=\"clear: left;\"><div id=\"cboxBottomLeft\" style=\"float: left;\"></div><div id=\"cboxBottomCenter\" style=\"float: left;\"></div><div id=\"cboxBottomRight\" style=\"float: left;\"></div></div></div><div style=\"position: absolute; width: 9999px; visibility: hidden; display: none; max-width: none;\"></div></div></body></html>'"
      ]
     },
     "metadata": {},
     "execution_count": 18
    }
   ],
   "source": [
    "driver.page_source"
   ]
  },
  {
   "cell_type": "code",
   "execution_count": 19,
   "metadata": {},
   "outputs": [
    {
     "output_type": "execute_result",
     "data": {
      "text/plain": [
       "'Borat Subsequent Moviefilm (2020) - Borat Subsequent Moviefilm (2020) - User Reviews - IMDb'"
      ]
     },
     "metadata": {},
     "execution_count": 19
    }
   ],
   "source": [
    "driver.title"
   ]
  },
  {
   "cell_type": "markdown",
   "metadata": {},
   "source": [
    "### Task 2 -- Figure out how to click the *Load More* button.\n",
    "\n",
    "To load all of the user reviews, we need to click the *Load More* button multiple times.  First, find the corresponding WebElement and verify that clicking this button loads another page of results."
   ]
  },
  {
   "cell_type": "code",
   "execution_count": 20,
   "metadata": {},
   "outputs": [],
   "source": [
    "# Liangrong Liu Task_2\n",
    "Load_more_button = driver.find_element_by_id('load-more-trigger')\n",
    "\n",
    "# Test by click once\n",
    "Load_more_button.click()"
   ]
  },
  {
   "cell_type": "markdown",
   "metadata": {},
   "source": [
    "### Task 3 -- Click *Load More* until you have all the results.\n",
    "\n",
    "Now you need to write code that will keep clicking the *Load More* button when you find it.  **Hint:** We can think of this as an example of an *unfold* process, meaning you should use a `while` loop combined with a [try-and-except statement](https://pythonbasics.org/try-except/) to keep trying to click the button.  To make sure you don't get an infinite loop, use a variable to identify and hold the stopping condition/state."
   ]
  },
  {
   "cell_type": "code",
   "execution_count": 21,
   "metadata": {},
   "outputs": [
    {
     "output_type": "stream",
     "name": "stdout",
     "text": [
      "I clicked 1 times on the load more button\n",
      "I clicked 2 times on the load more button\n",
      "I clicked 3 times on the load more button\n",
      "I clicked 4 times on the load more button\n",
      "I clicked 5 times on the load more button\n",
      "I clicked 6 times on the load more button\n",
      "I clicked 7 times on the load more button\n",
      "I clicked 8 times on the load more button\n",
      "I clicked 9 times on the load more button\n",
      "I clicked 10 times on the load more button\n",
      "I clicked 11 times on the load more button\n",
      "I clicked 12 times on the load more button\n",
      "I clicked 13 times on the load more button\n",
      "I clicked 14 times on the load more button\n",
      "I clicked 15 times on the load more button\n",
      "I clicked 16 times on the load more button\n",
      "I clicked 17 times on the load more button\n",
      "I clicked 18 times on the load more button\n",
      "I clicked 19 times on the load more button\n",
      "I clicked 20 times on the load more button\n",
      "I clicked 21 times on the load more button\n",
      "I clicked 22 times on the load more button\n",
      "I clicked 23 times on the load more button\n",
      "I clicked 24 times on the load more button\n",
      "I clicked 25 times on the load more button\n",
      "I clicked 26 times on the load more button\n",
      "I clicked 27 times on the load more button\n",
      "I clicked 28 times on the load more button\n",
      "I clicked 29 times on the load more button\n",
      "I clicked 30 times on the load more button\n",
      "I clicked 31 times on the load more button\n",
      "I clicked 32 times on the load more button\n",
      "I clicked 33 times on the load more button\n",
      "I clicked 34 times on the load more button\n",
      "I clicked 35 times on the load more button\n",
      "I clicked 36 times on the load more button\n",
      "I clicked 37 times on the load more button\n",
      "I clicked 38 times on the load more button\n"
     ]
    }
   ],
   "source": [
    "# Liangrong Liu Task_3\n",
    "\n",
    "# Import more functions\n",
    "from selenium.webdriver.common.by import By\n",
    "from selenium.webdriver.support.ui import WebDriverWait\n",
    "from selenium.webdriver.support import expected_conditions as EC\n",
    "\n",
    "# Define waiting time\n",
    "wait = WebDriverWait(driver, 15)\n",
    "\n",
    "# Define stop condition and counts\n",
    "keep_going = True\n",
    "i = 0\n",
    "\n",
    "# while loop\n",
    "while keep_going and i < 999:\n",
    "    try:\n",
    "        i = i + 1\n",
    "        Load_more_button.click()\n",
    "        print('I clicked {0} times on the load more button'.format(i))\n",
    "        Load_more_button = wait.until(EC.element_to_be_clickable((By.ID, 'load-more-trigger')))\n",
    "    except:\n",
    "        keep_going = False"
   ]
  },
  {
   "cell_type": "markdown",
   "metadata": {},
   "source": [
    "### Task 4 -- Load the results in a `BeautifulSoup` object.\n",
    "\n",
    "Since `bs4` has better tools for parsing html, we will now switch to using this module to parse the results.  Recall that you can access the content of the current content from the `selenium` driver using `driver.page_source`.  You can use this attribute to make a `soup` object for the page using \n",
    "\n",
    "> soup = BeautifulSoup(driver.page_source, 'html.parser')"
   ]
  },
  {
   "cell_type": "code",
   "execution_count": 23,
   "metadata": {},
   "outputs": [
    {
     "output_type": "execute_result",
     "data": {
      "text/plain": [
       "yType?\n",
       "d.performance.getEntriesByType(\"resource\"):[]}function n(a){if(a.id)return\"//*[@id='\"+a.id+\"']\";var c;c=1;var b;for(b=a.previousSibling;b;b=b.previousSibling)b.nodeName==a.nodeName&&(c+=1);b=a.nodeName;1!=c&&(b+=\"[\"+c+\"]\");a.parentNode&&(b=n(a.parentNode)+\"/\"+b);return b}function w(){var a=h.images;a&&a.length&&e(a,function(a){var b=a.getAttribute(\"src\");f(b,\"img\",a);g(b,\"img\",a)})}function x(){var a=h.scripts;a&&a.length&&e(a,function(a){var b=a.getAttribute(\"src\");f(b,\"script\",a);g(b,\"script\",a)})}\n",
       "function y(){var a=h.styleSheets;a&&a.length&&e(a,function(a){if(a=a.ownerNode){var b=a.getAttribute(\"href\");f(b,\"style\",a);g(b,\"style\",a)}})}function z(){if(A){var a=q();e(a,function(a){f(a.name,a.initiatorType)})}}function B(){e(q(),function(a){g(a.name,a.initiatorType)})}function r(){var a;a=d.location&&d.location.protocol?d.location.protocol:void 0;\"https:\"==a&&(z(),w(),x(),y(),B(),p<C&&setTimeout(r,D))}var s=\"[CSM] Insecure content detected \",t=\"[CSM] Ajax request to same page detected \",v=\"WARN\",\n",
       "m={},p=0,D=k.ue_nsip||1E3,C=5,A=1==k.ue_urt,u=!0;ue_csm.ue_disableNonSecure||(d.performance&&d.performance.setResourceTimingBufferSize&&d.performance.setResourceTimingBufferSize(300),r())})(ue_csm,window,document);\n",
       "\n",
       "\n",
       "var ue_aa_a = \"\";\n",
       "if (ue.trigger && (ue_aa_a === \"C\" || ue_aa_a === \"T1\")) {\n",
       "    ue.trigger(\"UEDATA_AA_SERVERSIDE_ASSIGNMENT_CLIENTSIDE_TRIGGER_190249\", ue_aa_a);\n",
       "}\n",
       "(function(f,b){function g(){try{b.PerformanceObserver&&\"function\"===typeof b.PerformanceObserver&&(a=new b.PerformanceObserver(function(b){c(b.getEntries())}),a.observe(d))}catch(h){k()}}function m(){for(var h=d.entryTypes,a=0;a<h.length;a++)c(b.performance.getEntriesByType(h[a]))}function c(a){if(a&&Array.isArray(a)){for(var c=0,e=0;e<a.length;e++){var d=l.indexOf(a[e].name);if(-1!==d){var g=Math.round(b.performance.timing.navigationStart+a[e].startTime);f.uet(n[d],void 0,void 0,g);c++}}l.length===\n",
       "c&&k()}}function k(){a&&a.disconnect&&\"function\"===typeof a.disconnect&&a.disconnect()}if(\"function\"===typeof f.uet&&b.performance&&\"object\"===typeof b.performance&&b.performance.getEntriesByType&&\"function\"===typeof b.performance.getEntriesByType&&b.performance.timing&&\"object\"===typeof b.performance.timing&&\"number\"===typeof b.performance.timing.navigationStart){var d={entryTypes:[\"paint\"]},l=[\"first-paint\",\"first-contentful-paint\"],n=[\"fp\",\"fcp\"],a;try{m(),g()}catch(p){f.ueLogError(p,{logLevel:\"ERROR\",\n",
       "attribution:\"performanceMetrics\"})}}})(ue_csm,window);\n",
       "\n",
       "\n",
       "if (window.csa) {\n",
       "    csa(\"Events\")(\"setEntity\", {\n",
       "        page:{pageType: \"title\", subPageType: \"reviews\", pageTypeId: \"\"}\n",
       "    });\n",
       "}\n",
       "csa.plugin(function(e){var i=\"transitionStart\",n=\"pageVisible\",t=\"PageTiming\",a=\"visibilitychange\",o=e(\"Events\",{producerId:\"csa\"}),r=(e.global.performance||{}).timing,d=[\"navigationStart\",\"unloadEventStart\",\"unloadEventEnd\",\"redirectStart\",\"redirectEnd\",\"fetchStart\",\"domainLookupStart\",\"domainLookupEnd\",\"connectStart\",\"connectEnd\",\"secureConnectionStart\",\"requestStart\",\"responseStart\",\"responseEnd\",\"domLoading\",\"domInteractive\",\"domContentLoadedEventStart\",\"domContentLoadedEventEnd\",\"domComplete\",\"loadEventStart\",\"loadEventEnd\"],c=e.config,s=e.global.document||{},l=(r||{}).navigationStart,u=l,m={},v=0,g=0,f=c[t+\".BatchInterval\"]||3e3,p=0,S=!0;if(!c[\"KillSwitch.\"+t]){if(!r||null===l||l<=0||void 0===l)return e.error(\"Invalid navigation timing data: \"+l);(\"boolean\"==typeof s.hidden||\"string\"==typeof s.visibilityState)&&s.addEventListener&&s.removeEventListener&&((S=L())?(E(n,l),b()):s.addEventListener(a,function t(){(S=L())&&(u=e.time(),s.removeEventListener(a,t),E(n,u),E(i,u),b())})),e.once(\"$unload\",h),e.once(\"$load\",h),e.on(\"$beforePageTransition\",y),e.on(\"$pageTransition\",function(){u=e.time()}),e.register(t,{mark:E})}function E(t,n){null!=t&&(n=n||e.time(),t===i&&(u=n),m[t]=n,b(),e.emit(\"$timing:\"+t,n))}function h(){!function(){if(p)return;for(var t=0;t<d.length;t++)r[d[t]]&&E(d[t],r[d[t]]);p=1}(),v=1,b(!0)}function b(t){v&&S&&!g&&(g=setTimeout(y,t?0:f))}function y(){0<Object.keys(m).length&&(o(\"log\",{markers:function(t,n){var e={};for(var i in t)t.hasOwnProperty(i)&&(e[i]=Math.max(0,t[i]-n));return e}(m,u),markerTimestamps:function(t){for(var n in t)t.hasOwnProperty(n)&&(t[n]=Math.floor(t[n]));return t}(m),navigationStartTimestamp:u?new Date(u).toISOString():null,schemaId:\"<ns>.PageLatency.5\"},{ent:{page:[\"pageType\",\"subPageType\",\"requestId\"]}}),m={}),g=0}function L(){return!s.hidden||\"visible\"===s.visibilityState}});csa.plugin(function(e){var m=!!e.config[\"LCP.elementDedup\"],t=!1,n=e(\"PageTiming\"),r=e.global.PerformanceObserver,a=e.global.performance;if(r&&a&&a.timing){var i=e.exec(function(){t||function(o){var l=new r(function(e){var t=e.getEntries();if(0!==t.length){var n=t[t.length-1];if(m&&\"\"!==n.id&&n.element&&\"IMG\"===n.element.tagName){for(var r={},a=t[0],i=0;i<t.length;i++)t[i].id in r||(\"\"!==t[i].id&&(r[t[i].id]=!0),a.startTime<t[i].startTime&&(a=t[i]));n=a}l.disconnect(),o({startTime:n.startTime,renderTime:n.renderTime,loadTime:n.loadTime})}});try{l.observe({type:\"largest-contentful-paint\",buffered:!0})}catch(e){}}(function(e){e&&(t=!0,n(\"mark\",\"largestContentfulPaint\",Math.floor(e.startTime+o())),e.renderTime&&n(\"mark\",\"largestContentfulPaint.render\",Math.floor(e.renderTime+o())),e.loadTime&&n(\"mark\",\"largestContentfulPaint.load\",Math.floor(e.loadTime+o())))})});e.once(\"$unload\",i),e.once(\"$load\",i),e.register(\"LargestContentfulPaint\",{})}function o(){return a.timing.navigationStart}});csa.plugin(function(r){var e=r(\"Metrics\",{producerId:\"csa\"}),n=r.global.PerformanceObserver;n&&(n=new n(function(r){var t=r.getEntries();if(0===t.length||!t[0].processingStart||!t[0].startTime)return;!function(r){r=r||0,n.disconnect(),0<=r?e(\"recordMetric\",\"firstInputDelay\",r):e(\"recordMetric\",\"firstInputDelay.invalid\",1)}(t[0].processingStart-t[0].startTime)}),function(){try{n.observe({type:\"first-input\",buffered:!0})}catch(r){}}())});csa.plugin(function(d){var e=\"Metrics\",r=d.config,u=r[e+\".BatchInterval\"]||3e3;function n(e){var r=e.producerId,n=e.logger,t=n||d(\"Events\",{producerId:r}),i={},o=(e||{}).dimensions||{},c=0;if(!r&&!n)return d.error(\"Either a producer id or custom logger must be defined\");function s(){Object.keys(i).length&&(t(\"log\",{schemaId:e.schemaId||\"<ns>.Metric.3\",metrics:i,dimensions:o},e.logOptions||{ent:{page:[\"pageType\",\"subPageType\",\"requestId\"]}}),i={}),c=0}this.recordMetric=function(e,r){i[e]=r,c=c||setTimeout(s,u)},d.on(\"$beforeunload\",s),d.on(\"$beforePageTransition\",s)}r[\"KillSwitch.\"+e]||(new n({producerId:\"csa\"}).recordMetric(\"baselineMetricEvent\",1),d.register(e,{instance:function(e){return new n(e||{})}}))});csa.plugin(function(c){var e=\"Timers\",r=(c.global.performance||{}).timing,s=(r||{}).navigationStart||c.time(),u=c.config[e+\".BatchInterval\"]||3e3;function n(e){var r=(e=e||{}).producerId,n=e.logger,o={},t=0,i=n||c(\"Events\",{producerId:r});if(!r&&!n)return c.error(\"Either a producer id or custom logger must be defined\");function a(){0<Object.keys(o).length&&(i(\"log\",{markers:o,schemaId:e.schemaId||\"<ns>.Timer.1\"},e.logOptions),o={}),clearTimeout(t),t=0}this.mark=function(e,r){o[e]=(void 0===r?c.time():r)-s,t=t||setTimeout(a,u)},c.once(\"$beforeunload\",a),c.once(\"$beforePageTransition\",a)}r&&c.register(e,{instance:function(e){return new n(e||{})}})});csa.plugin(function(t){var e=\"takeRecords\",i=\"disconnect\",n=\"function\",o=\"addEventListener\",c=\"removeEventListener\",a=\"click\",r=t(\"Metrics\",{producerId:\"csa\"}),u=t(\"PageTiming\"),f=t.global,m=f.PerformanceObserver,s=0,l=!1,d=0,v=f.performance,h=f.document,y=null,g=!1;if(m&&v&&v.timing&&h){m=new m(function(t){y&&clearTimeout(y);t.getEntries().forEach(function(t){t.hadRecentInput||(s+=t.value,d<t.startTime&&(d=t.startTime))}),y=setTimeout(T,5e3)}),function(){try{m.observe({type:\"layout-shift\",buffered:!0}),y=setTimeout(T,5e3)}catch(t){}}();var p=t.exec(T);h[o](a,function t(e){g||(g=!0,r(\"recordMetric\",\"documentCumulativeLayoutShiftToFirstInput\",s),h[c](a,t))}),h[o](\"visibilitychange\",function(){\"hidden\"===h.visibilityState&&p()}),t.once(\"$unload\",p)}function T(){l||(l=!0,clearTimeout(y),typeof m[e]===n&&m[e](),typeof m[i]===n&&m[i](),r(\"recordMetric\",\"documentCumulativeLayoutShift\",s),u(\"mark\",\"cumulativeLayoutShiftLastTimestamp\",Math.floor(d+v.timing.navigationStart)))}});csa.plugin(function(e){var n=e.global,r=n.PerformanceObserver,t=e(\"Metrics\",{producerId:\"csa\"}),o=0,c=0,i=-1,a=n.Math,l=a.max,f=a.ceil;function u(){t(\"recordMetric\",\"totalBlockingTime\",f(c||0)),t(\"recordMetric\",\"totalBlockingTimeInclLCP\",f(o||0)),t(\"recordMetric\",\"maxBlockingTime\",f(i||0)),c=o=0,i=-1}r&&(new r(e.exec(function(e){e.getEntries().forEach(function(e){var n=e.duration;o+=n,c+=n,i=l(n,i)})})).observe({type:\"longtask\",buffered:!0}),new r(e.exec(function(e){0<e.getEntries().length&&(c=0,i=-1)})).observe({type:\"largest-contentful-paint\",buffered:!0}),e.on(\"$unload\",u),e.on(\"$beforePageTransition\",u))});csa.plugin(function(i){var e=\"CacheDetection\",n=\"csa-cache\",s=\"onsuccess\",u=\"target\",d=\"result\",p=\"exp\",f=i.exec,t=i.config,g=t[e+\".RequestID\"],l=t[e+\".Callback\"],v=1,c=i.global,r=c.document||{},a=c.indexedDB,h=c.IDBKeyRange,I=i(\"Events\"),x=i(\"Events\",{producerId:\"csa\"});if(a&&h)try{var o=a.open(n);o.onupgradeneeded=f(function(e){e[u][d].createObjectStore(n).createIndex(p,p)}),o[s]=f(function(e){var o=e[u][d].transaction(n,\"readwrite\").objectStore(n);o.get(g)[s]=f(function(e){var n=D(\"session-id\"),t=function(e){var n=D(\"cdn-rid\");if(n)return{r:n,s:\"cdn\"};if(e)return{r:i.UUID().toUpperCase().replace(/-/g,\"\").slice(0,20),s:\"device\"}}(e[u][d])||{},c=t.r,r=t.s,a=!!c;!function(e){var n=Date.now(),t=h.upperBound(n);e.index(p).openCursor(t)[s]=f(function(e){var n=e[u][d];n&&(n.delete(),n.continue())}),e.put({exp:n+60*v*60*1e3},g)}(o),function(e,n,t){if(n){I(\"setEntity\",{page:{pageSource:\"cache\",requestId:e,cacheRequestId:g},session:{id:t}}),x(\"log\",{schemaId:\"<ns>.CacheImpression.1\"},{ent:\"all\"})}}(c,a,n),a&&l&&l(c,n,r)})})}catch(e){}function D(e){try{var n=r.cookie.match(RegExp(\"(^| )\"+e+\"=([^;]+)\"));return n&&n[2].trim()}catch(e){}}});csa.plugin(function(c){var i,t=\"Content\",e=\"MutationObserver\",n=\"requestAnimationFrame\",r=\"addedNodes\",u=\"querySelectorAll\",a=\"matches\",o=\"getAttributeNames\",s=\"getAttribute\",f=\"dataset\",l=\"widget\",d=\"producerId\",m={ent:{element:1,page:[\"pageType\",\"subPageType\",\"requestId\"]}},h=5,g=10,p=\"csaC\",v=p+\"Id\",y={},E=c.config,b=E[t+\".Selectors\"]||[],I=E[t+\".WhitelistedAttributes\"]||{href:1,class:1},w=E[t+\".EnableContentEntities\"],A=c.global,C=A.document||{},k=C.documentElement,L=A.HTMLElement,N={},O=[],U=function(t,e,n,i){var r=this,o=c(\"Events\",{producerId:t||\"csa\"});e.type=e.type||l,r.id=e.id,r.l=o,r.e=e,r.el=n,r.rt=i,r.dlo=m,r.log=function(t,e){o(\"log\",t,e||m)},e.id&&o(\"setEntity\",{element:e})},q=U.prototype;function T(t){var e=(t=t||{}).element,n=t.target;return e?function(t,e){var n;n=t instanceof L?F(t)||$(e[d],t,H,c.time()):N[t.id]||_(e[d],0,t,c.time());return n}(e,t):n?function(t){var e,n=function(t){var e=null,n=0;for(;t&&n<g;){if(n++,j(t,v)){e=t;break}t=t.parentElement}return e}(t);e=n?F(n):new U(\"csa\",{id:null},null,c.time());return e}(n):c.error(\"No element or target argument provided.\")}function j(t,e){if(t&&t.dataset)return t.dataset[e]}function x(t,e,n){O.push({n:n,e:t,t:e}),M()}function D(){for(var t=c.time(),e=0;0<O.length;){var n=O.shift();if(y[n.n](n.e,n.t),++e%10==0&&c.time()-t>h)break}i=0,O.length&&M()}function M(){i=i||A[n](D)}function S(t,e,n){return{n:t,e:e,t:n}}function $(t,e,n,i){var r=c.UUID(),o={id:r};return e[f][v]=r,n(o,e),_(t,e,o,i)}function _(t,e,n,i){w&&(n.schemaId=\"<ns>.ContentEntity.2\"),n.id=n.id||c.UUID();var r=new U(t,n,e,i);return w&&r.log({schemaId:\"<ns>.ContentRender.1\",timestamp:i}),c.emit(\"$content.register\",r),N[n.id]=r}function F(t){return N[(t[f]||{})[v]]}function H(t,e){o in e&&(function(n,i){Object.keys(n[f]).forEach(function(t){if(!t.indexOf(p)&&p.length<t.length){var e=function(t){return(t[0]||\"\").toLowerCase()+t.slice(1)}(t.slice(p.length));i[e]=n[f][t]}})}(e,t),function(e,n){(e[o]()||[]).forEach(function(t){t in I&&(n[t]=e[s](t))})}(e,t))}k&&A[n]&&C[u]&&A[e]&&(b.push({selector:\"*[data-csa-c-type]\",entity:H}),b.push({selector:\".celwidget\",entity:function(t,e){H(t,e),t.slotId=t.slotId||e[s](\"cel_widget_id\")||e.id,t.type=t.type||l}}),y[1]=function(t,e){t.forEach(function(t){t[r]&&t[r].constructor&&\"NodeList\"===t[r].constructor.name&&Array.prototype.forEach.call(t[r],function(t){O.unshift(S(2,t,e))})})},y[2]=function(o,c){u in o&&a in o&&b.forEach(function(t){var e=t.selector,n=o[a](e),i=o[u](e);n&&O.unshift(S(3,{e:o,s:t},c));for(var r=0;r<i.length;r++)O.unshift(S(3,{e:i[r],s:t},c))})},y[3]=function(t,e){var n=t.e;F(n)||$(\"csa\",n,t.s.entity,e)},y[4]=function(){c.register(t,{instance:T})},new A[e](function(t){x(t,c.time(),1)}).observe(k,{childList:!0,subtree:!0}),x(k,c.time(),2),x(null,c.time(),4),c.on(\"$content.export\",function(e){Object.keys(e).forEach(function(t){q[t]=e[t]})}))});csa.plugin(function(n){var i,t=\"ContentImpressions\",e=\"KillSwitch.\",o=\"IntersectionObserver\",r=\"getAttribute\",s=\"dataset\",c=\"intersectionRatio\",a=\"csaCId\",m=1e3,l=n.global,f=n.config,g=f[e+t],u=f[e+t+\".ContentViews\"],v=((l.performance||{}).timing||{}).navigationStart||n.time(),d={};function h(t){t&&(t.v=1,function(t){t.vt=n.time(),t.el.log({schemaId:\"<ns>.ContentView.2\",timeToViewed:t.vt-t.el.rt,pageFirstPaintToElementViewed:t.vt-v})}(t))}function I(t){t&&!t.it&&(t.i=n.time()-t.is>m,function(t){t.it=n.time(),t.el.log({schemaId:\"<ns>.ContentImpressed.2\",timeToImpressed:t.it-t.el.rt,pageFirstPaintToElementImpressed:t.it-v})}(t))}!g&&l[o]&&(i=new l[o](function(t){t.forEach(function(t){var e=function(t){if(t&&t[r])return d[t[s][a]]}(t.target);if(e){var i=t.intersectionRect;t.isIntersecting&&0<i.width&&0<i.height&&(u||e.v||h(e),.5<=t[c]&&!e.is&&(e.is=n.time(),e.timer=l.setTimeout(I.bind(this,e),m))),t[c]<.5&&!e.it&&e.timer&&(l.clearTimeout(e.timer),e.is=0,e.timer=0)}})},{threshold:[0,.5]}),n.on(\"$content.register\",function(t){var e=t.el;e&&(d[t.id]={el:t,v:0,i:0,is:0,vt:0,it:0},i.observe(e))}))});csa.plugin(function(e){e.config[\"KillSwitch.ContentLatency\"]||e.emit(\"$content.export\",{mark:function(t,n){var o=this;o.t||(o.t=e(\"Timers\",{logger:o.l,schemaId:\"<ns>.ContentLatency.1\",logOptions:o.dlo})),o.t(\"mark\",t,n)}})});\n",
       "\n",
       "\n",
       "}\n",
       "/* ◬ */\n",
       "</script>\n",
       "</div>\n",
       "<noscript>\n",
       "<img alt=\"\" height=\"1\" src=\"//fls-na.amazon.com/1/batch/1/OP/A1EVAM02EL8SFB:147-1764755-4678619:KEA2BPNS70QNHY61S5C2$uedata=s:%2Frd%2Fuedata%3Fnoscript%26id%3DKEA2BPNS70QNHY61S5C2:0\" style=\"display:none;visibility:hidden;\" width=\"1\">\n",
       "</img></noscript>\n",
       "</div><div id=\"video-container\"><div class=\"modal__closed\"><div class=\"modal__video-container\"><div class=\"video-player__video-panel\"><div class=\"video-player__video-wrapper\"><div class=\"video-player__video-margin-maker\"><div class=\"video-player__video-container\"><div><div class=\"arrow-left disabled\"></div><div class=\"arrow-right disabled\"></div><div class=\"video-player__header\"><div class=\"video-player__header-internal\"><div class=\"close-button\"></div><div class=\"header-text-container\"><div class=\"header-text\"></div></div><div class=\"video-player__info-button\"></div><div id=\"social-sharing-widget\"><div class=\"dropdown share-widget\"><button title=\"Share this video\"><span><svg class=\"share-button\" fill=\"#fff\" viewbox=\"0 0 24 24\" xmlns=\"http://www.w3.org/2000/svg\"><path d=\"M18 16.08c-.76 0-1.44.3-1.96.77L8.91 12.7c.05-.23.09-.46.09-.7s-.04-.47-.09-.7l7.05-4.11c.54.5 1.25.81 2.04.81 1.66 0 3-1.34 3-3s-1.34-3-3-3-3 1.34-3 3c0 .24.04.47.09.7L8.04 9.81C7.5 9.31 6.79 9 6 9c-1.66 0-3 1.34-3 3s1.34 3 3 3c.79 0 1.5-.31 2.04-.81l7.12 4.16c-.05.21-.08.43-.08.65 0 1.61 1.31 2.92 2.92 2.92 1.61 0 2.92-1.31 2.92-2.92s-1.31-2.92-2.92-2.92z\"></path></svg><span class=\"share-button-title\" style=\"color: rgb(255, 255, 255);\">SHARE</span></span></button><div class=\"dropdown-menu menu-right\"><div class=\"dropdown-menu-item\"><a href=\"http://www.facebook.com/sharer.php?u=https%3A%2F%2Fwww.imdb.com%2Ftitle%2Ftt13143964%2Freviews\" target=\"_blank\" title=\"Share on Facebook\" windowheight=\"436\" windowwidth=\"626\"><span class=\"share-widget-sprite share facebook\"></span>Facebook</a></div><div class=\"dropdown-menu-item\"><a href=\"http://twitter.com/intent/tweet?text=Check%20out%20this%20video%20-%20%20from%20undefined%20-%20on%20IMDb!%20-%20https%3A%2F%2Fwww.imdb.com%2Ftitle%2Ftt13143964%2Freviews\" target=\"_blank\" title=\"Share on Twitter\" tweet=\"Check out this video -  from undefined - on IMDb!\" windowheight=\"436\" windowwidth=\"815\"><span class=\"share-widget-sprite share twitter\"></span>Twitter</a></div><div class=\"dropdown-menu-item\"><a href=\"mailto:?subject=Watch%20this%20video%20on%20IMDb!&amp;body=Check%20out%20this%20video%20-%20%20from%20undefined%20-%20on%20IMDb! - https://www.imdb.com/title/tt13143964/reviews\" title=\"Share by email\"><span class=\"share-widget-sprite share email\"></span>Email</a></div><div class=\"dropdown-menu-item\"><a href=\"https://www.imdb.com/title/tt13143964/reviews\" title=\"Click to copy\"><span class=\"share-widget-copy-icon\"><span class=\"share-widget-sprite share link\"></span></span><div class=\"share-link-descriptor\">Copy</div><div class=\"share-link-textbox\"><input readonly=\"\" type=\"text\" value=\"https://www.imdb.com/title/tt13143964/reviews\"/></div></a></div><div class=\"dropdown-menu-item\"><a href=\"#\" title=\"Click to copy\"><span class=\"share-widget-copy-icon\"><span class=\"share-widget-sprite share embed\"></span></span><div class=\"share-link-descriptor\">Embed</div><div class=\"share-link-textbox\"><input readonly=\"\" type=\"text\" value='&lt;iframe src=\"https://www.imdb.com/videoembed/undefined\" allowfullscreen width=\"854\" height=\"400\"&gt;&lt;/iframe&gt;'/></div></a></div></div><div class=\"dropdown-overlay\"></div></div></div></div></div></div><div class=\"video-player__video\"><div id=\"imdb-jw-video-1\"></div></div></div></div></div><div class=\"video-player__sidebar\"><div class=\"video-player__sidebar-wrapper\"><div class=\"sidebar-close-button\"></div><div class=\"sidebar-header\"><div class=\"video-player__playlist-header\"><div class=\"video-player__playlist-header-title\">Related Videos</div><div class=\"video-player__playlist-header-index\"></div></div></div><div class=\"sidebar-related\"><div class=\"scrollable-area\"><div class=\"primary-relation-card\"><div class=\"primary-relation-poster\"><a class=\"poster-link\" target=\"_self\"></a></div><div class=\"primary-relation-info\"><a class=\"primary-relation-name\" target=\"_self\"></a></div></div><div class=\"sidebar-video-description\"><div class=\"content-card collapsed\"><div class=\"expand-collapse-card-button\"></div><div class=\"primary-text-container\"><div class=\"centered-primary-text\"><h1 class=\"title\"></h1></div></div><div class=\"description\"></div></div></div></div></div></div></div></div></div></div></div><script async=\"\" src=\"https://db187550c7dkf.cloudfront.net/jwplayer-unlimited-8.5.6/jwplayer.js\"></script><div id=\"cboxOverlay\" style=\"display: none;\"></div><div class=\"\" id=\"colorbox\" role=\"dialog\" style=\"display: none;\" tabindex=\"-1\"><div id=\"cboxWrapper\"><div><div id=\"cboxTopLeft\" style=\"float: left;\"></div><div id=\"cboxTopCenter\" style=\"float: left;\"></div><div id=\"cboxTopRight\" style=\"float: left;\"></div></div><div style=\"clear: left;\"><div id=\"cboxMiddleLeft\" style=\"float: left;\"></div><div id=\"cboxContent\" style=\"float: left;\"><div id=\"cboxTitle\" style=\"float: left;\"></div><div id=\"cboxCurrent\" style=\"float: left;\"></div><button id=\"cboxPrevious\" type=\"button\"></button><button id=\"cboxNext\" type=\"button\"></button><button id=\"cboxSlideshow\" type=\"button\"></button><div id=\"cboxLoadingOverlay\" style=\"float: left;\"></div><div id=\"cboxLoadingGraphic\" style=\"float: left;\"></div></div><div id=\"cboxMiddleRight\" style=\"float: left;\"></div></div><div style=\"clear: left;\"><div id=\"cboxBottomLeft\" style=\"float: left;\"></div><div id=\"cboxBottomCenter\" style=\"float: left;\"></div><div id=\"cboxBottomRight\" style=\"float: left;\"></div></div></div><div style=\"position: absolute; width: 9999px; visibility: hidden; display: none; max-width: none;\"></div></div></body></html>"
      ]
     },
     "metadata": {},
     "execution_count": 23
    }
   ],
   "source": [
    "# Liangrong Liu Task_4\n",
    "\n",
    "# Import BeautifulSoup function\n",
    "from bs4 import BeautifulSoup\n",
    "\n",
    "# Parseing the html\n",
    "review_soup = BeautifulSoup(driver.page_source, 'html.parser')\n",
    "\n",
    "# Check\n",
    "review_soup"
   ]
  },
  {
   "cell_type": "markdown",
   "metadata": {},
   "source": [
    "### Task 5 -- Extract the information\n",
    "\n",
    "Now extract the following data to a csv file.\n",
    "\n",
    "1. Title\n",
    "2. Score\n",
    "3. User\n",
    "4. Date\n",
    "5. Text (replace commas with semi-colons!)\n",
    "6. Two columns for X and Y, where `\"X out of Y found this helpful\"`\n",
    "7. Permanent link the the review.\n"
   ]
  },
  {
   "cell_type": "code",
   "execution_count": 145,
   "metadata": {},
   "outputs": [],
   "source": [
    "# Liangrong Liu Task_5\n",
    "\n",
    "# Import more functions\n",
    "from composablesoup import find, find_all, get_text, has_attr\n",
    "from composable import pipeable\n",
    "from composable import from_toolz as tlz\n",
    "from composable.strict import map\n",
    "from composable.sequence import head\n",
    "from composable.string import replace, strip\n",
    "from composablesoup.soup import find_previous_sibling, find_parent, find_next_sibling"
   ]
  },
  {
   "cell_type": "code",
   "execution_count": 74,
   "metadata": {},
   "outputs": [
    {
     "output_type": "execute_result",
     "data": {
      "text/plain": [
       "995"
      ]
     },
     "metadata": {},
     "execution_count": 74
    }
   ],
   "source": [
    "# Search for Title\n",
    "title = (review_soup\n",
    ">> find_all('a', attrs = {'class' : 'title'})\n",
    ">> map(get_text)\n",
    ">> map(replace('\\n', ''))\n",
    ">> map(strip())\n",
    "#>> head(10)    for checking\n",
    ")\n",
    "\n",
    "#title  for checking\n",
    "len(title)"
   ]
  },
  {
   "cell_type": "code",
   "execution_count": 156,
   "metadata": {},
   "outputs": [
    {
     "output_type": "execute_result",
     "data": {
      "text/plain": [
       "985"
      ]
     },
     "metadata": {},
     "execution_count": 156
    }
   ],
   "source": [
    "# Search for Score\n",
    "score = (review_soup\n",
    ">> find_all('span', attrs = {'class' : 'point-scale'})\n",
    ">> map(find_previous_sibling)\n",
    ">> map(get_text)\n",
    ">> map(strip())\n",
    "#>> head(10)     for checking\n",
    ")\n",
    "\n",
    "#score  for checking\n",
    "len(score)\n",
    "# not quite sure how to deal with the MISSING VALUE here..."
   ]
  },
  {
   "cell_type": "code",
   "execution_count": 85,
   "metadata": {},
   "outputs": [
    {
     "output_type": "execute_result",
     "data": {
      "text/plain": [
       "995"
      ]
     },
     "metadata": {},
     "execution_count": 85
    }
   ],
   "source": [
    "# Search for User\n",
    "user = (review_soup\n",
    ">> find_all('span', attrs = {'class' : 'display-name-link'})\n",
    ">> map(find('a'))\n",
    ">> map(get_text)\n",
    "#>> head(10)     for checking\n",
    ")\n",
    "\n",
    "#user   for checking\n",
    "len(user)"
   ]
  },
  {
   "cell_type": "code",
   "execution_count": 89,
   "metadata": {},
   "outputs": [
    {
     "output_type": "execute_result",
     "data": {
      "text/plain": [
       "995"
      ]
     },
     "metadata": {},
     "execution_count": 89
    }
   ],
   "source": [
    "# Search for Date\n",
    "date = (review_soup\n",
    ">> find_all('span', attrs = {'class' : 'review-date'})\n",
    ">> map(get_text)\n",
    "#>> head(10)   for checking\n",
    ")\n",
    "\n",
    "#date   for checking\n",
    "len(date)"
   ]
  },
  {
   "cell_type": "code",
   "execution_count": 103,
   "metadata": {},
   "outputs": [
    {
     "output_type": "execute_result",
     "data": {
      "text/plain": [
       "995"
      ]
     },
     "metadata": {},
     "execution_count": 103
    }
   ],
   "source": [
    "# Search for Text\n",
    "text = (review_soup\n",
    ">> find_all('div', attrs = {'class' : 'text'})\n",
    ">> map(get_text)\n",
    ">> map(replace(',', ';'))\n",
    ">> map(replace('\\n', '; '))\n",
    "#>> map(replace('\\'', r\"'\"))    not sure how to deal with \\'\n",
    "#>> head(10)    for checking\n",
    ")\n",
    "\n",
    "#text   for checking\n",
    "len(text)"
   ]
  },
  {
   "cell_type": "code",
   "execution_count": 141,
   "metadata": {},
   "outputs": [
    {
     "output_type": "stream",
     "name": "stdout",
     "text": [
      "995 995\n"
     ]
    }
   ],
   "source": [
    "# Search for X and Y\n",
    "\n",
    "# extract the whole text including X and Y\n",
    "x_out_of_y = (review_soup\n",
    ">> find_all('div', attrs = {'class' : 'actions'})\n",
    ">> map(get_text)\n",
    ">> map(strip())\n",
    "#>> head(10)  for checking\n",
    ")\n",
    "\n",
    "# Define a function that will extract X value\n",
    "def find_x(element):\n",
    "    spaceIndex = element.index(' ')\n",
    "    return element[:spaceIndex]\n",
    "\n",
    "# Define a function that will extrac Y value\n",
    "def find_y(element):\n",
    "    spaceNumber = 1\n",
    "    while spaceNumber < 4:\n",
    "        spaceIndex = element.index(' ')\n",
    "        element = element[spaceIndex+1:]\n",
    "        spaceNumber += 1\n",
    "    space4Index = element.index(' ')\n",
    "    return element[:space4Index]\n",
    "\n",
    "# Get the columns for X and Y, as \"list\" format\n",
    "X = [find_x(i) for i in x_out_of_y]\n",
    "Y = [find_y(i) for i in x_out_of_y]\n",
    "\n",
    "#X[:10]  for checking\n",
    "#Y[:10]  for checking\n",
    "print(len(X), len(Y))\n",
    "\n"
   ]
  },
  {
   "cell_type": "code",
   "execution_count": 150,
   "metadata": {},
   "outputs": [
    {
     "output_type": "execute_result",
     "data": {
      "text/plain": [
       "995"
      ]
     },
     "metadata": {},
     "execution_count": 150
    }
   ],
   "source": [
    "# Search for Permanent links for the review\n",
    "permaLinks = (review_soup\n",
    ">> find_all('div', attrs = {'class' : 'actions'})\n",
    ">> map(find('span'))\n",
    ">> map(find_next_sibling)\n",
    ">> map(find_next_sibling)\n",
    ">> map(tlz.get('href'))\n",
    "#>> head(10)    for checking\n",
    ")\n",
    "\n",
    "#permaLinks for checking\n",
    "len(permaLinks)"
   ]
  },
  {
   "cell_type": "code",
   "execution_count": 159,
   "metadata": {},
   "outputs": [],
   "source": [
    "# Save as CSV file\n",
    "\n",
    "import csv\n",
    "\n",
    "with open('Liu_Lab_5.2_imdb.csv', 'w') as f:\n",
    "    writer = csv.writer(f)\n",
    "    writer.writerows(zip(title, score, user, date, text, X, Y, permaLinks))"
   ]
  }
 ],
 "metadata": {
  "kernelspec": {
   "name": "Python 3.9.0 64-bit",
   "display_name": "Python 3.9.0 64-bit",
   "metadata": {
    "interpreter": {
     "hash": "aee8b7b246df8f9039afb4144a1f6fd8d2ca17a180786b69acc140d282b71a49"
    }
   }
  },
  "language_info": {
   "codemirror_mode": {
    "name": "ipython",
    "version": 3
   },
   "file_extension": ".py",
   "mimetype": "text/x-python",
   "name": "python",
   "nbconvert_exporter": "python",
   "pygments_lexer": "ipython3",
   "version": "3.9.0-final"
  }
 },
 "nbformat": 4,
 "nbformat_minor": 2
}